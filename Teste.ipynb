{
 "cells": [
  {
   "cell_type": "markdown",
   "metadata": {},
   "source": [
    "<h2>Questionário - Paulo Beviláqua de Castro</h2>\n",
    "\n"
   ]
  },
  {
   "cell_type": "code",
   "execution_count": 1,
   "metadata": {},
   "outputs": [],
   "source": [
    "import pandas as pd\n",
    "import numpy as np"
   ]
  },
  {
   "cell_type": "code",
   "execution_count": 2,
   "metadata": {},
   "outputs": [],
   "source": [
    "visitsdf = pd.read_csv('visits.csv', sep=';')\n",
    "memb = membersdf = pd.read_csv('members.csv', sep=',')"
   ]
  },
  {
   "cell_type": "markdown",
   "metadata": {},
   "source": [
    "<h3>Q1 :  What is the total number of Sales that appear in the Visits file ?</h3>"
   ]
  },
  {
   "cell_type": "code",
   "execution_count": 3,
   "metadata": {},
   "outputs": [
    {
     "name": "stdout",
     "output_type": "stream",
     "text": [
      "2453\n"
     ]
    }
   ],
   "source": [
    "somasales = sum(visitsdf['Sales'])\n",
    "print(somasales)"
   ]
  },
  {
   "cell_type": "markdown",
   "metadata": {},
   "source": [
    "<h3>Q2:  What is the average conversion rate (which is defined as the average number of sales per visit?</h3>"
   ]
  },
  {
   "cell_type": "code",
   "execution_count": 4,
   "metadata": {},
   "outputs": [
    {
     "name": "stdout",
     "output_type": "stream",
     "text": [
      "4.24 %\n"
     ]
    }
   ],
   "source": [
    "#Average Conversion Rate = avgcrate\n",
    "avgcrate = sum(visitsdf['Sales']/sum(visitsdf['Visits']))*100\n",
    "print(\"%.2f\" % avgcrate,\"%\")"
   ]
  },
  {
   "cell_type": "markdown",
   "metadata": {},
   "source": [
    "<h3>Q3a :  How many members visited at least once the site ?</h3>"
   ]
  },
  {
   "cell_type": "code",
   "execution_count": 5,
   "metadata": {},
   "outputs": [
    {
     "name": "stdout",
     "output_type": "stream",
     "text": [
      "8080\n"
     ]
    }
   ],
   "source": [
    "\n",
    "\"\"\"Como não há elementos 0 na coluna Visits (todos os Customer IDs visitaram ao menos uma vez),\n",
    "basta contarmos o número de diferentes Customer IDs\"\"\"\n",
    "a = visitsdf['Customer ID'].value_counts()\n",
    "print(len(a))"
   ]
  },
  {
   "cell_type": "markdown",
   "metadata": {},
   "source": [
    "<h3>Q3b How many bought at least once ?\n",
    "\n",
    "</h3>"
   ]
  },
  {
   "cell_type": "code",
   "execution_count": 6,
   "metadata": {},
   "outputs": [
    {
     "name": "stdout",
     "output_type": "stream",
     "text": [
      "1037\n"
     ]
    }
   ],
   "source": [
    "a = visitsdf[visitsdf['Sales']>0]\n",
    "#a = visitsdf.loc[lambda df: df.Sales > 0, :] #todas as vendas maiores que 0 (outra forma)\n",
    "a = a.drop_duplicates(['Customer ID']) #retirando clientes duplicados\n",
    "a = a.Sales.count() #contando\n",
    "print(a)"
   ]
  },
  {
   "cell_type": "markdown",
   "metadata": {},
   "source": [
    "<h3><i>The \"Members\" file describes for each customer (identified by its Member  ID) \n",
    "#the date is subscribed on the site, and where the customer came\n",
    "#from (Three sources, \"A\",\"B\" or \"C\")</i></h3>\n",
    "\n"
   ]
  },
  {
   "cell_type": "markdown",
   "metadata": {},
   "source": [
    "<h3>Q4:   How many Members are there from each \"Source\" in the Members file ?\n",
    "\n",
    "</h3>"
   ]
  },
  {
   "cell_type": "code",
   "execution_count": 7,
   "metadata": {},
   "outputs": [
    {
     "name": "stdout",
     "output_type": "stream",
     "text": [
      "Total de clientes da fonte A:  2782\n",
      "Total de clientes da fonte B:  3839\n",
      "Total de clientes da fonte C:  3379\n"
     ]
    }
   ],
   "source": [
    "memb = pd.read_csv('Members.csv')\n",
    "A = memb[memb.Source == \"A\"]#filtrando\n",
    "B = memb[memb.Source == \"B\"]\n",
    "C = memb[memb.Source == \"C\"]\n",
    "print(\"Total de clientes da fonte A: \",A.Source.count())\n",
    "print(\"Total de clientes da fonte B: \",B.Source.count())\n",
    "print(\"Total de clientes da fonte C: \",C.Source.count())"
   ]
  },
  {
   "cell_type": "markdown",
   "metadata": {},
   "source": [
    "<h3>Q5 :  Using both files at the same time, find out the total number of Sales of clients that come from each source\n",
    "\n",
    "</h3>"
   ]
  },
  {
   "cell_type": "code",
   "execution_count": 8,
   "metadata": {},
   "outputs": [
    {
     "name": "stdout",
     "output_type": "stream",
     "text": [
      "Total de vendas da fonte A:  905\n",
      "Total de vendas da fonte B:  562\n",
      "Total de vendas da fonte C:  986\n"
     ]
    }
   ],
   "source": [
    "memb = pd.read_csv('Members.csv', sep=\",\")\n",
    "visi = pd.read_csv('Visits.csv', sep=\";\")\n",
    "juntas = pd.merge(memb,visi)\n",
    "\n",
    "A = juntas[(juntas[\"Sales\"]>0) & (juntas[\"Source\"]==\"A\")]\n",
    "B = juntas[(juntas[\"Sales\"]>0) & (juntas[\"Source\"]==\"B\")]\n",
    "C = juntas[(juntas[\"Sales\"]>0) & (juntas[\"Source\"]==\"C\")]\n",
    "somaA = A.Sales.sum()\n",
    "somaB = B.Sales.sum()\n",
    "somaC = C.Sales.sum()\n",
    "\n",
    "print(\"Total de vendas da fonte A: \", somaA)\n",
    "print(\"Total de vendas da fonte B: \", somaB)\n",
    "print(\"Total de vendas da fonte C: \", somaC)"
   ]
  },
  {
   "cell_type": "markdown",
   "metadata": {},
   "source": [
    "<h3>(INCOMPLETO) Q6 :  Which percentage of visits occur 15 days or less after subscription ?\n",
    "\n",
    "</h3>"
   ]
  },
  {
   "cell_type": "code",
   "execution_count": 9,
   "metadata": {
    "scrolled": false
   },
   "outputs": [],
   "source": [
    "memb = pd.read_csv('Members.csv', sep=\",\", parse_dates = ['Subscription Date'])\n",
    "visi = pd.read_csv('Visits.csv', sep=\";\", parse_dates = ['Date'])\n",
    "juntas = pd.merge(memb,visi)"
   ]
  },
  {
   "cell_type": "code",
   "execution_count": 10,
   "metadata": {},
   "outputs": [],
   "source": [
    "\n",
    "\n",
    "a = juntas.Date\n",
    "b = juntas[\"Subscription Date\"]\n",
    "#dif = juntas[(juntas[\"Date\"] - juntas[\"Subscription Date\"])]\n",
    "#dif\n",
    "\n",
    "#dif = a-b\n",
    "\n",
    "#dife = dif[dif[\"dif\"]>15]\n",
    "#dif.value_counts()\n"
   ]
  },
  {
   "cell_type": "markdown",
   "metadata": {},
   "source": [
    "<h3>(IMPRECISO) Q7 :  What is the average conversion rate for each \"Source\" ?\n",
    "    <br>Média está dando diferente do cálculo pelo Excel</h3>"
   ]
  },
  {
   "cell_type": "code",
   "execution_count": 11,
   "metadata": {},
   "outputs": [
    {
     "name": "stdout",
     "output_type": "stream",
     "text": [
      "Taxa média de conversão fonte A: 6.11 %\n",
      "Taxa média de conversão fonte B: 5.27 %\n",
      "Taxa média de conversão fonte C: 5.61 %\n",
      "Taxa média de conversão total 5.66 %\n"
     ]
    }
   ],
   "source": [
    "memb = pd.read_csv('Members.csv', sep=\",\")\n",
    "visi = pd.read_csv('Visits.csv', sep=\";\")\n",
    "juntas = pd.merge(memb,visi)\n",
    "\n",
    "SalesA = juntas[(juntas[\"Sales\"]) & (juntas[\"Source\"]==\"A\")]\n",
    "VisitsA = juntas[(juntas[\"Visits\"]) & (juntas[\"Source\"]==\"A\")]\n",
    "\n",
    "SalesB = juntas[(juntas[\"Sales\"]) & (juntas[\"Source\"]==\"B\")]\n",
    "VisitsB = juntas[(juntas[\"Visits\"]) & (juntas[\"Source\"]==\"B\")]\n",
    "\n",
    "SalesC = juntas[(juntas[\"Sales\"]) & (juntas[\"Source\"]==\"C\")]\n",
    "VisitsC = juntas[(juntas[\"Visits\"]) & (juntas[\"Source\"]==\"C\")]\n",
    "\n",
    "somaA = SalesA.Sales.sum()\n",
    "somaVA = VisitsA.Visits.sum()\n",
    "avgrateA = somaA/somaVA *100\n",
    "\n",
    "somaB = SalesA.Sales.sum()\n",
    "somaVB = VisitsB.Visits.sum()\n",
    "avgrateB = somaB/somaVB *100\n",
    "\n",
    "somaC = SalesC.Sales.sum()\n",
    "somaVC = VisitsC.Visits.sum()\n",
    "avgrateC = somaC/somaVC *100\n",
    "\n",
    "print(\"Taxa média de conversão fonte A: \"\"%.2f\" % avgrateA,\"%\")\n",
    "print(\"Taxa média de conversão fonte B: \"\"%.2f\" % avgrateB,\"%\")\n",
    "print(\"Taxa média de conversão fonte C: \" \"%.2f\" % avgrateC,\"%\")\n",
    "\n",
    "total = avgrateA + avgrateB + avgrateC\n",
    "print(\"Taxa média de conversão total \" \"%.2f\" % (total/3),\"%\")\n"
   ]
  },
  {
   "cell_type": "markdown",
   "metadata": {},
   "source": [
    "<H2>Fontes de consulta: Documentação, GitHub, StackOverflow, Data Science Academy, Google, Youtube.</H2>\n"
   ]
  }
 ],
 "metadata": {
  "kernelspec": {
   "display_name": "Python 3",
   "language": "python",
   "name": "python3"
  },
  "language_info": {
   "codemirror_mode": {
    "name": "ipython",
    "version": 3
   },
   "file_extension": ".py",
   "mimetype": "text/x-python",
   "name": "python",
   "nbconvert_exporter": "python",
   "pygments_lexer": "ipython3",
   "version": "3.6.8"
  }
 },
 "nbformat": 4,
 "nbformat_minor": 2
}
